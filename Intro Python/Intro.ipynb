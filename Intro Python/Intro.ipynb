{
 "cells": [
  {
   "cell_type": "markdown",
   "id": "6ff8d149",
   "metadata": {},
   "source": [
    "# Introducción a Python\n",
    "\n",
    "https://docs.python.org/3/\n",
    "\n",
    "![python](https://www.devacademy.es/wp-content/uploads/2018/10/python-logo.png)\n",
    "\n",
    "$$$$\n",
    "\n",
    "Python es un lenguaje de programación interpretado cuya filosofía hace hincapié en la legibilidad de su código. Se trata de un lenguaje de programación multiparadigma, ya que soporta parcialmente la orientación a objetos, programación imperativa y, en menor medida, programación funcional. Es un lenguaje interpretado, dinámico y multiplataforma.\n",
    "\n",
    "Es administrado por la Python Software Foundation. Posee una licencia de código abierto, denominada Python Software Foundation License."
   ]
  },
  {
   "cell_type": "code",
   "execution_count": 1,
   "id": "686deb3f",
   "metadata": {},
   "outputs": [
    {
     "name": "stdout",
     "output_type": "stream",
     "text": [
      "The Zen of Python, by Tim Peters\n",
      "\n",
      "Beautiful is better than ugly.\n",
      "Explicit is better than implicit.\n",
      "Simple is better than complex.\n",
      "Complex is better than complicated.\n",
      "Flat is better than nested.\n",
      "Sparse is better than dense.\n",
      "Readability counts.\n",
      "Special cases aren't special enough to break the rules.\n",
      "Although practicality beats purity.\n",
      "Errors should never pass silently.\n",
      "Unless explicitly silenced.\n",
      "In the face of ambiguity, refuse the temptation to guess.\n",
      "There should be one-- and preferably only one --obvious way to do it.\n",
      "Although that way may not be obvious at first unless you're Dutch.\n",
      "Now is better than never.\n",
      "Although never is often better than *right* now.\n",
      "If the implementation is hard to explain, it's a bad idea.\n",
      "If the implementation is easy to explain, it may be a good idea.\n",
      "Namespaces are one honking great idea -- let's do more of those!\n"
     ]
    }
   ],
   "source": [
    "import this"
   ]
  },
  {
   "cell_type": "markdown",
   "id": "c53fa165",
   "metadata": {},
   "source": [
    "```python\n",
    "Bonito es mejor que feo.\n",
    "Explícito es mejor que implícito.\n",
    "Simple es mejor que complejo.\n",
    "Complejo es mejor que complicado.\n",
    "Plano es mejor que anidado.\n",
    "Disperso es mejor que denso.\n",
    "La legibilidad cuenta.\n",
    "Los casos especiales no son tan especiales como para romper las reglas.\n",
    "Aunque la practicidad gana a la pureza.\n",
    "Los errores nunca deben pasar en silencio.\n",
    "A menos que se silencien explícitamente.\n",
    "Ante la ambigüedad, rechaza la tentación de suponer.\n",
    "Debe haber una -y preferiblemente sólo una- forma obvia de hacerlo.\n",
    "Aunque esa manera puede no ser obvia al principio, a menos que seas holandés.\n",
    "Ahora es mejor que nunca.\n",
    "Aunque nunca es a menudo mejor que *ahora mismo*.\n",
    "Si la implementación es difícil de explicar, es una mala idea.\n",
    "Si la implementación es fácil de explicar, puede ser una buena idea.\n",
    "Los espacios de nombres son una gran idea, ¡hagamos más de ellos!\n",
    "```"
   ]
  },
  {
   "cell_type": "markdown",
   "id": "e2604839",
   "metadata": {},
   "source": [
    "**Tabla de contenidos:**\n",
    "\n",
    "    1  Variables y operaciones\n",
    "    2  Listas y diccionarios\n",
    "    3  Condicionales\n",
    "    4  Bucles"
   ]
  },
  {
   "cell_type": "markdown",
   "id": "2593388c",
   "metadata": {},
   "source": [
    "## 1. Variables y operaciones\n",
    "\n",
    "El concepto de \"variable\" proviene de las Matemáticas. En Matemáticas, una variable es un símbolo que forma parte de una expresión o de una fórmula. Normalmente las variables se representan mediante letras del alfabeto latino ( x, y, z, n, i, j, etc.). Dependiendo del contexto, las variables significan cosas distintas. Por ejemplo la `x` de una ecuación.\n",
    "\n",
    "En programación también existe el concepto de \"variable\", parecido pero no idéntico al concepto matemático.\n",
    "\n",
    "En Python, las variables están asociadas a variables concretas. Además, cada lenguaje de programación tiene su forma de implementar el concepto de variable, por lo que lo que se explica a continuación es válido para muchos lenguajes de programación, aunque otros lenguajes de programación permiten otras posibilidades.\n",
    "\n",
    "En muchos lenguajes de programación, una variable se puede entender como una especie de caja en la que se puede guardar un valor, por ejemplo, un valor numérico. Esa caja suele corresponder a una posición de memoria en la memoria del ordenador.\n",
    "\n",
    "Las variables se representan también mediante letras o palabras completas: x, y, a, b, nombre, apellidos, edad, etc. Aunque siempre es conveniente añadir semántica al nombre de la variable.\n"
   ]
  },
  {
   "cell_type": "code",
   "execution_count": 2,
   "id": "972b73f2",
   "metadata": {},
   "outputs": [
    {
     "name": "stdout",
     "output_type": "stream",
     "text": [
      "24\n"
     ]
    }
   ],
   "source": [
    "edad = 24      # variable edad cuyo valor es 24, un nº entero\n",
    "\n",
    "print(edad)    # print es la función para imprimir la variable"
   ]
  },
  {
   "cell_type": "code",
   "execution_count": 3,
   "id": "f6302ace",
   "metadata": {},
   "outputs": [
    {
     "name": "stdout",
     "output_type": "stream",
     "text": [
      "Juana\n"
     ]
    }
   ],
   "source": [
    "nombre = 'Juana'     # variable nombre cuyo valor es 'Juana', una cadena de caracteres\n",
    "\n",
    "print(nombre)        # imprime la variable nombre"
   ]
  },
  {
   "cell_type": "code",
   "execution_count": 4,
   "id": "c8d7e140",
   "metadata": {},
   "outputs": [
    {
     "name": "stdout",
     "output_type": "stream",
     "text": [
      "Hola,¿cómo estás?\n"
     ]
    }
   ],
   "source": [
    "entrada = input()    # input es una función para que el usuario escriba, se guarda en una variable"
   ]
  },
  {
   "cell_type": "code",
   "execution_count": 5,
   "id": "1ebf9951",
   "metadata": {},
   "outputs": [
    {
     "name": "stdout",
     "output_type": "stream",
     "text": [
      "Hola,¿cómo estás?\n"
     ]
    }
   ],
   "source": [
    "print(entrada)       # imprime la variable entrada"
   ]
  },
  {
   "cell_type": "code",
   "execution_count": 6,
   "id": "b61bcc92",
   "metadata": {},
   "outputs": [
    {
     "name": "stdout",
     "output_type": "stream",
     "text": [
      "Soy Juana . Hola,¿cómo estás?\n"
     ]
    }
   ],
   "source": [
    "# Las variables son recordadas por el código\n",
    "\n",
    "print('Soy', nombre, '.', entrada)"
   ]
  },
  {
   "cell_type": "markdown",
   "id": "2f8ad980",
   "metadata": {},
   "source": [
    "Con las variables podemos realizar operaciones. Operaciones en sentido matemático o no. Hagamos algo de aritmética."
   ]
  },
  {
   "cell_type": "code",
   "execution_count": 7,
   "id": "5273a1c7",
   "metadata": {},
   "outputs": [
    {
     "name": "stdout",
     "output_type": "stream",
     "text": [
      "7\n"
     ]
    }
   ],
   "source": [
    "# sumar\n",
    "\n",
    "a = 4\n",
    "\n",
    "b = 3\n",
    "\n",
    "c = a+b   # operación suma\n",
    "\n",
    "print(c)"
   ]
  },
  {
   "cell_type": "code",
   "execution_count": 8,
   "id": "4610b43f",
   "metadata": {},
   "outputs": [
    {
     "name": "stdout",
     "output_type": "stream",
     "text": [
      "1\n"
     ]
    }
   ],
   "source": [
    "# restar\n",
    "\n",
    "a = 4\n",
    "\n",
    "b = 3\n",
    "\n",
    "c = a-b   # operación resta\n",
    "\n",
    "print(c)"
   ]
  },
  {
   "cell_type": "code",
   "execution_count": 9,
   "id": "7244d533",
   "metadata": {},
   "outputs": [
    {
     "name": "stdout",
     "output_type": "stream",
     "text": [
      "12\n"
     ]
    }
   ],
   "source": [
    "# multiplicar\n",
    "\n",
    "a = 4\n",
    "\n",
    "b = 3\n",
    "\n",
    "c = a*b   # operación producto\n",
    "\n",
    "print(c)"
   ]
  },
  {
   "cell_type": "code",
   "execution_count": 10,
   "id": "e179a8a2",
   "metadata": {},
   "outputs": [
    {
     "name": "stdout",
     "output_type": "stream",
     "text": [
      "1.3333333333333333\n"
     ]
    }
   ],
   "source": [
    "# dividir\n",
    "\n",
    "a = 4\n",
    "\n",
    "b = 3\n",
    "\n",
    "c = a/b   # operación división\n",
    "\n",
    "print(c)"
   ]
  },
  {
   "cell_type": "code",
   "execution_count": 11,
   "id": "a9d39527",
   "metadata": {},
   "outputs": [
    {
     "name": "stdout",
     "output_type": "stream",
     "text": [
      "1\n"
     ]
    }
   ],
   "source": [
    "# dividir de manera entera, sin decimales\n",
    "\n",
    "a = 4\n",
    "\n",
    "b = 3\n",
    "\n",
    "c = a//b   # operación división entera, doble //\n",
    "\n",
    "print(c)"
   ]
  },
  {
   "cell_type": "code",
   "execution_count": 12,
   "id": "4424ca1c",
   "metadata": {},
   "outputs": [
    {
     "name": "stdout",
     "output_type": "stream",
     "text": [
      "1\n"
     ]
    }
   ],
   "source": [
    "# modulo, resto de la division\n",
    "\n",
    "a = 4\n",
    "\n",
    "b = 3\n",
    "\n",
    "c = a%b   # operación modulo\n",
    "\n",
    "print(c)"
   ]
  },
  {
   "cell_type": "code",
   "execution_count": 13,
   "id": "8267ad58",
   "metadata": {},
   "outputs": [
    {
     "name": "stdout",
     "output_type": "stream",
     "text": [
      "0\n"
     ]
    }
   ],
   "source": [
    "# cuatro modulo dos, resto de dividir 4 entre 2\n",
    "\n",
    "print(4%2)"
   ]
  },
  {
   "cell_type": "code",
   "execution_count": 14,
   "id": "a5273370",
   "metadata": {},
   "outputs": [
    {
     "name": "stdout",
     "output_type": "stream",
     "text": [
      "1\n"
     ]
    }
   ],
   "source": [
    "# cinco modulo dos, resto de dividir 5 entre 2\n",
    "\n",
    "print(5%2)"
   ]
  },
  {
   "cell_type": "markdown",
   "id": "8538ccca",
   "metadata": {},
   "source": [
    "## 2. Listas y diccionarios\n",
    "\n",
    "Las listas en Python son un tipo contenedor, compuesto, que se usan para almacenar conjuntos de elementos relacionados del mismo tipo o de tipos distintos. Veamos un ejemplo."
   ]
  },
  {
   "cell_type": "code",
   "execution_count": 15,
   "id": "6f5fb0e7",
   "metadata": {},
   "outputs": [
    {
     "name": "stdout",
     "output_type": "stream",
     "text": [
      "[10, 20, 30, 40]\n"
     ]
    }
   ],
   "source": [
    "# esta lista contiene 4 números\n",
    "\n",
    "lista=[10, 20, 30, 40]\n",
    "\n",
    "print(lista)"
   ]
  },
  {
   "cell_type": "markdown",
   "id": "ef4656bf",
   "metadata": {},
   "source": [
    "De una lista se puede extraer un elemento según su posición, por ejemplo, si queremos el primer elemento:"
   ]
  },
  {
   "cell_type": "code",
   "execution_count": 16,
   "id": "4812c0b6",
   "metadata": {},
   "outputs": [
    {
     "data": {
      "text/plain": [
       "10"
      ]
     },
     "execution_count": 16,
     "metadata": {},
     "output_type": "execute_result"
    }
   ],
   "source": [
    "lista[0]"
   ]
  },
  {
   "cell_type": "markdown",
   "id": "8d75cb40",
   "metadata": {},
   "source": [
    "Los diccionarios en Python nos permiten almacenar una serie de mapeos entre dos conjuntos de elementos, llamados keys and values (Claves y Valores). Se acceden a los elementos según esa estructura, veamos un ejemplo:"
   ]
  },
  {
   "cell_type": "code",
   "execution_count": 17,
   "id": "611c3409",
   "metadata": {},
   "outputs": [
    {
     "name": "stdout",
     "output_type": "stream",
     "text": [
      "{'numero': 2, 'nombre': 'Pepe', 'edad': 30}\n"
     ]
    }
   ],
   "source": [
    "diccionario={'numero': 2, 'nombre': 'Pepe', 'edad': 30}\n",
    "\n",
    "print(diccionario)"
   ]
  },
  {
   "cell_type": "code",
   "execution_count": 18,
   "id": "bcc65e6c",
   "metadata": {},
   "outputs": [
    {
     "data": {
      "text/plain": [
       "30"
      ]
     },
     "execution_count": 18,
     "metadata": {},
     "output_type": "execute_result"
    }
   ],
   "source": [
    "diccionario['edad']"
   ]
  },
  {
   "cell_type": "code",
   "execution_count": 19,
   "id": "be8b5b71",
   "metadata": {},
   "outputs": [
    {
     "data": {
      "text/plain": [
       "'Pepe'"
      ]
     },
     "execution_count": 19,
     "metadata": {},
     "output_type": "execute_result"
    }
   ],
   "source": [
    "diccionario['nombre']"
   ]
  },
  {
   "cell_type": "markdown",
   "id": "ff9723f7",
   "metadata": {},
   "source": [
    "También se puede acceder a las claves y los valores por separado, en formato lista:"
   ]
  },
  {
   "cell_type": "code",
   "execution_count": 20,
   "id": "42600e50",
   "metadata": {},
   "outputs": [
    {
     "name": "stdout",
     "output_type": "stream",
     "text": [
      "dict_keys(['numero', 'nombre', 'edad'])\n"
     ]
    }
   ],
   "source": [
    "print(diccionario.keys())   # claves"
   ]
  },
  {
   "cell_type": "code",
   "execution_count": 21,
   "id": "4b33c6fc",
   "metadata": {},
   "outputs": [
    {
     "name": "stdout",
     "output_type": "stream",
     "text": [
      "dict_values([2, 'Pepe', 30])\n"
     ]
    }
   ],
   "source": [
    "print(diccionario.values())   # valores"
   ]
  },
  {
   "cell_type": "markdown",
   "id": "4c62cfff",
   "metadata": {},
   "source": [
    "## 3. Condicionales\n",
    "\n",
    "Los condicionales nos permiten controlar el flujo del código, por ejemplo hacer cosas distintas si una variable es mayor o menor que cierto valor. Veamos un ejemplo:"
   ]
  },
  {
   "cell_type": "code",
   "execution_count": 22,
   "id": "70c19753",
   "metadata": {},
   "outputs": [
    {
     "name": "stdout",
     "output_type": "stream",
     "text": [
      "5\n"
     ]
    }
   ],
   "source": [
    "a = 3  # variable con cierto valor\n",
    "\n",
    "\n",
    "\n",
    "if a > 0:     # si la variable a es mayor que cero....\n",
    "    \n",
    "    b=a+2     # ...sumale 2..\n",
    "    print(b)  # e imprime\n",
    "    \n",
    "else:  # en otro caso...\n",
    "    print(a)\n",
    "    "
   ]
  },
  {
   "cell_type": "code",
   "execution_count": 23,
   "id": "19c2f911",
   "metadata": {},
   "outputs": [
    {
     "name": "stdout",
     "output_type": "stream",
     "text": [
      "-4\n"
     ]
    }
   ],
   "source": [
    "# sintaxis completa\n",
    "\n",
    "a = -2  # variable con cierto valor\n",
    "\n",
    "if a > 0:     # si la variable a es mayor que cero....\n",
    "    \n",
    "    b=a+2     # ...sumale 2..\n",
    "    print(b)  # e imprime\n",
    "    \n",
    "elif a < 0:     # si la variable a es menor que cero....\n",
    "    \n",
    "    b=a-2     # ...restale 2..\n",
    "    print(b)  # e imprime\n",
    "    \n",
    "else:         # en otro caso...\n",
    "    print(a)\n",
    "    "
   ]
  },
  {
   "cell_type": "markdown",
   "id": "a76efe0a",
   "metadata": {},
   "source": [
    "## 4. Bucles\n",
    "\n",
    "El bucle for en Python se utiliza para ejecutar repetidamente un bloque de código. Los bucles for son una parte fundamental de la mayoría de los lenguajes de programación. Veamos un ejemplo para recorrer lista elemento a elemento y sumarlos todos:"
   ]
  },
  {
   "cell_type": "code",
   "execution_count": 24,
   "id": "48242bdc",
   "metadata": {},
   "outputs": [
    {
     "name": "stdout",
     "output_type": "stream",
     "text": [
      "[10, 21, 13, 24, 55, 66, 67, 98, 99, 100]\n"
     ]
    }
   ],
   "source": [
    "# vamos a sumar esta lista\n",
    "\n",
    "lista=[10, 21, 13, 24, 55, 66, 67, 98, 99, 100]\n",
    "\n",
    "print(lista)"
   ]
  },
  {
   "cell_type": "code",
   "execution_count": 25,
   "id": "2c0912f3",
   "metadata": {},
   "outputs": [
    {
     "data": {
      "text/plain": [
       "55"
      ]
     },
     "execution_count": 25,
     "metadata": {},
     "output_type": "execute_result"
    }
   ],
   "source": [
    "# sabemos que podemos acceder a un elemento segun su indice\n",
    "\n",
    "lista[4]   # quinto elemento de la lista"
   ]
  },
  {
   "cell_type": "code",
   "execution_count": 26,
   "id": "ca8ddeb8",
   "metadata": {},
   "outputs": [
    {
     "name": "stdout",
     "output_type": "stream",
     "text": [
      "0 10\n",
      "1 21\n",
      "2 13\n",
      "3 24\n",
      "4 55\n",
      "5 66\n",
      "6 67\n",
      "7 98\n",
      "8 99\n",
      "9 100\n",
      "Suma Total\n",
      "553\n"
     ]
    }
   ],
   "source": [
    "# recorremos la lista y sumamos\n",
    "\n",
    "suma=0        # elemento neutreo de la suma\n",
    "\n",
    "for i in range(len(lista)):   # para cada indice en la longitud de la lista...\n",
    "    \n",
    "    print(i, lista[i])    # ¿qué es i?  Es el indice, y lista[i] es cada nº en la lista\n",
    "    \n",
    "    suma = suma+lista[i]  # sumando\n",
    "    \n",
    "\n",
    "print('Suma Total')\n",
    "print(suma)     # enseña la suma completa"
   ]
  },
  {
   "cell_type": "code",
   "execution_count": 27,
   "id": "0ab4b91c",
   "metadata": {},
   "outputs": [
    {
     "name": "stdout",
     "output_type": "stream",
     "text": [
      "10\n",
      "21\n",
      "13\n",
      "24\n",
      "55\n",
      "66\n",
      "67\n",
      "98\n",
      "99\n",
      "100\n"
     ]
    }
   ],
   "source": [
    "# también se puede recorrer por elemento directamente\n",
    "\n",
    "\n",
    "for e in lista:    # para cada elemento de la lista....\n",
    "    print(e)       # ...imprimelo"
   ]
  },
  {
   "cell_type": "code",
   "execution_count": null,
   "id": "2ed8d955",
   "metadata": {},
   "outputs": [],
   "source": []
  }
 ],
 "metadata": {
  "kernelspec": {
   "display_name": "clase",
   "language": "python",
   "name": "clase"
  },
  "language_info": {
   "codemirror_mode": {
    "name": "ipython",
    "version": 3
   },
   "file_extension": ".py",
   "mimetype": "text/x-python",
   "name": "python",
   "nbconvert_exporter": "python",
   "pygments_lexer": "ipython3",
   "version": "3.8.13"
  }
 },
 "nbformat": 4,
 "nbformat_minor": 5
}
