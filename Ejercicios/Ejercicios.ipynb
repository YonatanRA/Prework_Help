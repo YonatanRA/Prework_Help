{
 "cells": [
  {
   "cell_type": "markdown",
   "id": "779d67de",
   "metadata": {},
   "source": [
    "## 1"
   ]
  },
  {
   "cell_type": "markdown",
   "id": "8f598681",
   "metadata": {},
   "source": [
    "Dada una lista de números enteros: \n",
    "```python\n",
    "# lista\n",
    "numeros = [1, 7, 6, 5, 4, 3, 2, 3, 4, 5, 6, 7, 6, 5, 4, 3, 2, 3, 4, 5, 6, 7]\n",
    "```\n",
    "\n",
    "Muestra por pantalla los números de esta lista que son mayores que 5."
   ]
  },
  {
   "cell_type": "code",
   "execution_count": 1,
   "id": "2fe37d12",
   "metadata": {},
   "outputs": [],
   "source": [
    "numeros = [1, 7, 6, 5, 4, 3, 2, 3, 4, 5, 6, 7, 6, 5, 4, 3, 2, 3, 4, 5, 6, 7]"
   ]
  },
  {
   "cell_type": "code",
   "execution_count": null,
   "id": "eb3d4ff2",
   "metadata": {},
   "outputs": [],
   "source": []
  },
  {
   "cell_type": "markdown",
   "id": "30db6201",
   "metadata": {},
   "source": [
    "Solución: \n",
    "```python\n",
    "7 \n",
    "6 \n",
    "6 \n",
    "7 \n",
    "6 \n",
    "6 \n",
    "7\n",
    "```"
   ]
  },
  {
   "cell_type": "markdown",
   "id": "f9547655",
   "metadata": {},
   "source": [
    "## 2 "
   ]
  },
  {
   "cell_type": "markdown",
   "id": "66f5b481",
   "metadata": {},
   "source": [
    "Dada una lista de números enteros: \n",
    "```python\n",
    "# lista\n",
    "numeros = [1, 7, 6, 5, 4, 3, 2, 3, 4, 5, 6, 7, 6, 5, 4, 3, 2, 3, 4, 5, 6, 7]\n",
    "```\n",
    "Indica cuántos números de la lista son mayores que 5."
   ]
  },
  {
   "cell_type": "code",
   "execution_count": null,
   "id": "6ccb91cb",
   "metadata": {},
   "outputs": [],
   "source": [
    "numeros = [1, 7, 6, 5, 4, 3, 2, 3, 4, 5, 6, 7, 6, 5, 4, 3, 2, 3, 4, 5, 6, 7]"
   ]
  },
  {
   "cell_type": "code",
   "execution_count": null,
   "id": "76d6ffe3",
   "metadata": {},
   "outputs": [],
   "source": []
  },
  {
   "cell_type": "markdown",
   "id": "d8a6901e",
   "metadata": {},
   "source": [
    "Solución: \n",
    "```python\n",
    "7\n",
    "```"
   ]
  },
  {
   "cell_type": "markdown",
   "id": "c9e2a15a",
   "metadata": {},
   "source": [
    "## 3"
   ]
  },
  {
   "cell_type": "markdown",
   "id": "f53d6cde",
   "metadata": {},
   "source": [
    "Dada una lista de números enteros: \n",
    "```python\n",
    "# lista\n",
    "numeros = [1, 7, 6, 5, 4, 3, 2, 3, 4, 5, 6, 7, 6, 5, 4, 3, 2, 3, 4, 5, 6, 7]\n",
    "```\n",
    "\n",
    "Muestra por pantalla una nueva lista que traduzca los elementos de la lista original:\n",
    "\t\n",
    "    * Los menores o iguales que 5 serán 0,\n",
    "\t* Los mayores que 5 serán 1."
   ]
  },
  {
   "cell_type": "code",
   "execution_count": null,
   "id": "db3ec5dd",
   "metadata": {},
   "outputs": [],
   "source": []
  },
  {
   "cell_type": "markdown",
   "id": "44f66ede",
   "metadata": {},
   "source": [
    "Solución: \n",
    "```python\n",
    "[0, 1, 1, 0, 0, 0, 0, 0, 0, 0, 1, 1, 1, 0, 0, 0, 0, 0, 0, 0, 1, 1]\n",
    "```"
   ]
  },
  {
   "cell_type": "markdown",
   "id": "0b66f400",
   "metadata": {},
   "source": [
    "## 4"
   ]
  },
  {
   "cell_type": "markdown",
   "id": "7ce6e709",
   "metadata": {},
   "source": [
    "Dado un diccionario de valoraciones de peliculas: \n",
    "```python\n",
    "# diccionario\n",
    "valoraciones = {'Alien':9.5, 'Terminator 2':8.9, 'Arma Letal':7.3}\n",
    "```\n",
    "\n",
    "Muestra por pantalla la suma de dichas valoraciones."
   ]
  },
  {
   "cell_type": "code",
   "execution_count": 2,
   "id": "7c9bfffa",
   "metadata": {},
   "outputs": [],
   "source": [
    "valoraciones = {'Alien':9.5, 'Terminator 2':8.9, 'Arma Letal':7.3}"
   ]
  },
  {
   "cell_type": "code",
   "execution_count": null,
   "id": "7bec7078",
   "metadata": {},
   "outputs": [],
   "source": []
  },
  {
   "cell_type": "markdown",
   "id": "18fcb69b",
   "metadata": {},
   "source": [
    "Solución: \n",
    "```python\n",
    "25.7\n",
    "```"
   ]
  },
  {
   "cell_type": "markdown",
   "id": "f93c82c6",
   "metadata": {},
   "source": [
    "## 5"
   ]
  },
  {
   "cell_type": "markdown",
   "id": "9a31024d",
   "metadata": {},
   "source": [
    "Dado un diccionario de notas de alumnos: \n",
    "```python\n",
    "# diccionario\n",
    "notas = {'Ana':9.5, 'Pepe': 7.3, 'Maria': 5.9, 'Juan': 6.4}\n",
    "```\n",
    "\n",
    "Muestra por pantalla la media de notas."
   ]
  },
  {
   "cell_type": "code",
   "execution_count": 7,
   "id": "fd149612",
   "metadata": {},
   "outputs": [],
   "source": [
    "notas = {'Ana':9.5, 'Pepe': 7.3, 'Maria': 5.9, 'Juan': 6.4}"
   ]
  },
  {
   "cell_type": "code",
   "execution_count": null,
   "id": "21255e8f",
   "metadata": {},
   "outputs": [],
   "source": []
  },
  {
   "cell_type": "markdown",
   "id": "2c334e3f",
   "metadata": {},
   "source": [
    "Solución: \n",
    "```python\n",
    "7.275\n",
    "```"
   ]
  },
  {
   "cell_type": "markdown",
   "id": "c606ba6f",
   "metadata": {},
   "source": [
    "## 6"
   ]
  },
  {
   "cell_type": "markdown",
   "id": "c8b22dbe",
   "metadata": {},
   "source": [
    "Supongamos que tenemos una lista conn los datos de una parada de autobús.\n",
    "```python\n",
    "paradas = [(10, 0), (4, 1), (3, 5), (3, 4), (5, 1), (1, 5), (5, 8), (4, 6), (2, 3)]\n",
    "```\n",
    "\n",
    "Cada elemento de la lista representa cuanta gente sube y baja en cada parada.\n",
    "\n",
    "¿Cuál es el número de paradas?"
   ]
  },
  {
   "cell_type": "code",
   "execution_count": 8,
   "id": "441dba16",
   "metadata": {},
   "outputs": [],
   "source": [
    "paradas = [(10, 0), (4, 1), (3, 5), (3, 4), (5, 1), (1, 5), (5, 8), (4, 6), (2, 3)]"
   ]
  },
  {
   "cell_type": "code",
   "execution_count": null,
   "id": "60e1a7d6",
   "metadata": {},
   "outputs": [],
   "source": []
  },
  {
   "cell_type": "markdown",
   "id": "bbb3f24f",
   "metadata": {},
   "source": [
    "Solución: \n",
    "```python\n",
    "9\n",
    "```"
   ]
  },
  {
   "cell_type": "markdown",
   "id": "dab72405",
   "metadata": {},
   "source": [
    "## 7"
   ]
  },
  {
   "cell_type": "markdown",
   "id": "328f3812",
   "metadata": {},
   "source": [
    "¿Cuál ha sido la mayor ocupación del autobús?"
   ]
  },
  {
   "cell_type": "code",
   "execution_count": null,
   "id": "754305ca",
   "metadata": {},
   "outputs": [],
   "source": []
  },
  {
   "cell_type": "markdown",
   "id": "48d0966f",
   "metadata": {},
   "source": [
    "Solución: \n",
    "```python\n",
    "14\n",
    "```"
   ]
  },
  {
   "cell_type": "markdown",
   "id": "c1efbadc",
   "metadata": {},
   "source": [
    "## 8"
   ]
  },
  {
   "cell_type": "markdown",
   "id": "71985f0c",
   "metadata": {},
   "source": [
    "¿Cuál ha sido la media de ocupación del autobús?"
   ]
  },
  {
   "cell_type": "code",
   "execution_count": null,
   "id": "f52ee270",
   "metadata": {},
   "outputs": [],
   "source": []
  },
  {
   "cell_type": "markdown",
   "id": "535009c2",
   "metadata": {},
   "source": [
    "Solución: \n",
    "```python\n",
    "9.3333\n",
    "```"
   ]
  },
  {
   "cell_type": "markdown",
   "id": "a9def7ee",
   "metadata": {},
   "source": [
    "## 9"
   ]
  },
  {
   "cell_type": "markdown",
   "id": "be81f39b",
   "metadata": {},
   "source": [
    "Un caracol cae en un pozo de 125cm de profundo. Cada día el caracol sube 30cm, pero por la noche mientras duerme, cae 20cm. ¿Cuántos días tarda el caracol en salir del pozo?\n",
    "\n",
    "TIP: http://puzzles.nigelcoldwell.co.uk/sixtytwo.htm"
   ]
  },
  {
   "cell_type": "code",
   "execution_count": null,
   "id": "c489fe25",
   "metadata": {},
   "outputs": [],
   "source": []
  },
  {
   "cell_type": "markdown",
   "id": "a60a4635",
   "metadata": {},
   "source": [
    "Solución: \n",
    "```python\n",
    "11\n",
    "```"
   ]
  },
  {
   "cell_type": "markdown",
   "id": "ba2c300f",
   "metadata": {},
   "source": [
    "## 10"
   ]
  },
  {
   "cell_type": "markdown",
   "id": "19aa475e",
   "metadata": {},
   "source": [
    "Estamos presenciando el combate épico entre Gandalf y Saruman. Cada mago tiene su hechizos, con su poder representado en la siguintes listas:\n",
    "    \n",
    "```python\n",
    "gandalf = [10, 11, 13, 30, 22, 11, 10, 33, 22, 22]\n",
    "saruman = [23, 66, 12, 43, 12, 10, 44, 23, 12, 17]\n",
    "```\n",
    "\n",
    "Es decir, el primer hechizo de Gandalf tiene poder 10 y el primero de Saruman tiene un poder de 23.\n",
    "\n",
    "¿Quién ganó el combate?"
   ]
  },
  {
   "cell_type": "code",
   "execution_count": null,
   "id": "0eac9b08",
   "metadata": {},
   "outputs": [],
   "source": []
  },
  {
   "cell_type": "code",
   "execution_count": null,
   "id": "f0d977b4",
   "metadata": {},
   "outputs": [],
   "source": []
  }
 ],
 "metadata": {
  "kernelspec": {
   "display_name": "clase",
   "language": "python",
   "name": "clase"
  },
  "language_info": {
   "codemirror_mode": {
    "name": "ipython",
    "version": 3
   },
   "file_extension": ".py",
   "mimetype": "text/x-python",
   "name": "python",
   "nbconvert_exporter": "python",
   "pygments_lexer": "ipython3",
   "version": "3.8.13"
  }
 },
 "nbformat": 4,
 "nbformat_minor": 5
}
